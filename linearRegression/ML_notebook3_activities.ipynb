{
  "nbformat": 4,
  "nbformat_minor": 0,
  "metadata": {
    "colab": {
      "provenance": []
    },
    "kernelspec": {
      "name": "python3",
      "display_name": "Python 3"
    },
    "language_info": {
      "name": "python"
    }
  },
  "cells": [
    {
      "cell_type": "markdown",
      "source": [
        "#Activity 1\n",
        "A Tesla car that is driving in the highway from Lisbon-Porto is being observed by a Sentinel satellite. This satellite reported the following data to the police department: \n",
        "\n",
        "| time (s) | velocity ($m/s$) | windSpeed ($m/s$) | location (m) |\n",
        "|--------------|:--------------|:--------------|:--------------|\n",
        "| 100 | 28 | 0.05100 | 3401\n",
        "| 121 | 30 | 0.05463 | 4004\n",
        "| 143 | 25 | 0.04559 | 4561\n",
        "| 159 | 38 | 0.06920 | 5308\n",
        "| 182 | 34 | 0.06192 | 6032"
      ],
      "metadata": {
        "id": "qfgAllRGbPww"
      }
    },
    {
      "cell_type": "markdown",
      "source": [
        "##1.1 Estimate the values of the model $f(v, t) = a_o + a_1\\text{ }v \\text{ }t $\n",
        "where the $v$ and $t$ variables are the velocity and time, respectively."
      ],
      "metadata": {
        "id": "FeNd7yLKbXy-"
      }
    },
    {
      "cell_type": "code",
      "source": [
        "import numpy as np\n",
        "from sklearn.metrics import mean_squared_error, r2_score\n",
        "import matplotlib.pyplot as plt\n",
        "from sklearn import linear_model\n",
        "\n",
        "#Train data\n",
        "trainData = np.array([[100, 121, 143, 159, 182], [28, 30, 25, 38, 34], [0.05100, 0.05463, 0.04559, 0.06920, 0.06192],\\\n",
        "                  [3401, 4004, 4561, 5308, 6032]], dtype=float)\n",
        "trainData = np.transpose(trainData)\n",
        "\n",
        "#The model proposed is f(v,t) = a0 + a1*v*t\n",
        "vt = trainData[:, 0] * trainData[:, 1] #element wise multiplication\n",
        "X_v_t = np.expand_dims(vt, axis=1) #(n,) to (n,1) array\n",
        "X = np.ones((np.shape(X_v_t)[0], 1), dtype=float)\n",
        "X = np.concatenate((X, X_v_t), axis = 1) #a0 + a1*x(1)\n",
        "Xt = np.transpose(X)\n",
        "Y = np.expand_dims(trainData[:, -1], axis=1)\n",
        "\n",
        "#Linear Regression\n",
        "M = Xt @ X\n",
        "half1 = np.linalg.inv(M) #[n,m]@[m,n] = [n,n]\n",
        "half2 = Xt @ Y #[n,m]@[i,j] = [n,j]\n",
        "theta = half1 @ half2 #[n,n]@[n,j] = [n,j]\n",
        "print(f'Coef = {theta[1]}')\n",
        "print(f'Intercept = {theta[0]} ')"
      ],
      "metadata": {
        "colab": {
          "base_uri": "https://localhost:8080/"
        },
        "id": "tcz6M5Vqbn3u",
        "outputId": "98239e63-f9b4-47d7-c388-7897cc8d14b0"
      },
      "execution_count": null,
      "outputs": [
        {
          "output_type": "stream",
          "name": "stdout",
          "text": [
            "Coef = [0.62971639]\n",
            "Intercept = [1860.85121463] \n"
          ]
        }
      ]
    },
    {
      "cell_type": "code",
      "source": [
        "# Precticted values\n",
        "Y_predict_f = X @ theta # Y = a0 + a1*x\n",
        "print(f'Predicted = {Y_predict_f}')"
      ],
      "metadata": {
        "colab": {
          "base_uri": "https://localhost:8080/"
        },
        "id": "lA6StbHIcWDD",
        "outputId": "cec1a184-8be5-469e-f28a-1057302c2510"
      },
      "execution_count": null,
      "outputs": [
        {
          "output_type": "stream",
          "name": "stdout",
          "text": [
            "Predicted = [[3624.05710602]\n",
            " [4146.72170955]\n",
            " [4112.08730811]\n",
            " [5665.59764171]\n",
            " [5757.53623462]]\n"
          ]
        }
      ]
    },
    {
      "cell_type": "code",
      "source": [
        "#Using scikit learn\n",
        "model = linear_model.LinearRegression()\n",
        "model.fit(X_v_t, Y)\n",
        "print(\"Coef = \", model.coef_)\n",
        "print(\"Intercept = \", model.intercept_)"
      ],
      "metadata": {
        "colab": {
          "base_uri": "https://localhost:8080/"
        },
        "id": "sOXQUdFhb8sp",
        "outputId": "502c6ff2-bcd6-4c0d-fa48-c81f5d7aae74"
      },
      "execution_count": null,
      "outputs": [
        {
          "output_type": "stream",
          "name": "stdout",
          "text": [
            "Coef =  [[0.62971639]]\n",
            "Intercept =  [1860.85121463]\n"
          ]
        }
      ]
    },
    {
      "cell_type": "code",
      "source": [
        "#Singular Value Decomposition (SVD) of the matrix (X.t X)\n",
        "u, s, vh = np.linalg.svd(M, full_matrices=True)\n",
        "print(\"SVD:\\n s:\", s)\n",
        "#Model's error\n",
        "MSE = mean_squared_error(Y, Y_predict_f)"
      ],
      "metadata": {
        "colab": {
          "base_uri": "https://localhost:8080/"
        },
        "id": "ulBRdClVcXuf",
        "outputId": "54be4365-0108-4f2f-ffe8-fc2cb762c6f7"
      },
      "execution_count": null,
      "outputs": [
        {
          "output_type": "stream",
          "name": "stdout",
          "text": [
            "SVD:\n",
            " s: [1.08594638e+08 4.47332770e-01]\n"
          ]
        }
      ]
    },
    {
      "cell_type": "code",
      "source": [
        "plt.scatter(X_v_t, Y, color=\"black\")\n",
        "plt.plot(X_v_t, Y_predict_f,  color=\"blue\", linewidth=3)\n",
        "plt.grid()\n",
        "title = 'MSE = {}'.format(round(MSE,2))\n",
        "plt.title(\"Linear Regression f(v, t) = ao + a1.v.t : \\n \" + title,\n",
        "          fontsize=10)\n",
        "plt.xlabel('v.t')\n",
        "plt.ylabel('y')\n",
        "plt.show()"
      ],
      "metadata": {
        "colab": {
          "base_uri": "https://localhost:8080/",
          "height": 305
        },
        "id": "0zazcbxKcef8",
        "outputId": "284ee1ec-70fa-4e30-aba4-1a33b66cbfd9"
      },
      "execution_count": null,
      "outputs": [
        {
          "output_type": "display_data",
          "data": {
            "text/plain": [
              "<Figure size 432x288 with 1 Axes>"
            ],
            "image/png": "[encoded data removed]"
          },
          "metadata": {
            "needs_background": "light"
          }
        }
      ]
    },
    {
      "cell_type": "markdown",
      "source": [
        "##1.2 Estimate the values of the model $g(v, t) = a_o + a_1 v t + a_2 (v t)^2$"
      ],
      "metadata": {
        "id": "EEfrAPo5cxne"
      }
    },
    {
      "cell_type": "code",
      "source": [
        "import numpy as np\n",
        "from sklearn.metrics import mean_squared_error, r2_score\n",
        "import matplotlib.pyplot as plt\n",
        "from sklearn import linear_model\n",
        "from sklearn.preprocessing import PolynomialFeatures\n",
        "\n",
        "#Train data\n",
        "trainData = np.array([[100, 121, 143, 159, 182], [28, 30, 25, 38, 34], [0.05100, 0.05463, 0.04559, 0.06920, 0.06192],\\\n",
        "                  [3401, 4004, 4561, 5308, 6032]], dtype=float)\n",
        "trainData = np.transpose(trainData)\n",
        "\n",
        "#The model proposed is g(v,t) = a0 + a1*vt + a2*vt^2\n",
        "vt = trainData[:, 0] * trainData[:, 1] #element wise multiplication\n",
        "X_v_t = np.expand_dims(vt, axis=1) #(n,) to (n,1) array\n",
        "X_v_t_squared = np.expand_dims(vt**2, axis=1)\n",
        "#X_v_t_squared = np.expand_dims(np.multiply(vt, vt), axis=1)\n",
        "X = np.ones((np.shape(X_v_t)[0], 1), dtype=float)\n",
        "X = np.concatenate((X, X_v_t), axis = 1) #a0 + a1*x(1) + a2*x(2)\n",
        "X = np.concatenate((X, X_v_t_squared), axis = 1) #a0 + a1*x(1) + a2*x(2)\n",
        "Xt = np.transpose(X)\n",
        "Y = np.expand_dims(trainData[:, -1], axis=1)\n",
        "\n",
        "#Linear regression\n",
        "M = Xt @ X #[n,m]@[m,n] = [n,n]\n",
        "half1 = np.linalg.inv(M)\n",
        "half2 = Xt @ Y #[n,m]@[i,j] = [n,j]\n",
        "theta = half1 @ half2 #[n,n]@[n,j] = [n,j]\n",
        "print(f'Coef = {np.transpose(theta[1:])}')\n",
        "print(f'Intercept = {theta[0]} ')"
      ],
      "metadata": {
        "colab": {
          "base_uri": "https://localhost:8080/"
        },
        "id": "ji77XieFfKB8",
        "outputId": "c72826aa-2f4a-4f68-92fc-922460d0113f"
      },
      "execution_count": null,
      "outputs": [
        {
          "output_type": "stream",
          "name": "stdout",
          "text": [
            "Coef = [[ 1.69954134e+00 -1.15399906e-04]]\n",
            "Intercept = [-390.29827289] \n"
          ]
        }
      ]
    },
    {
      "cell_type": "code",
      "source": [
        "# Precticted values\n",
        "Y_predict_g = X @ theta # Y = a0 + a1*x + a2x**2\n",
        "print(f'Predicted = {Y_predict_g}')"
      ],
      "metadata": {
        "colab": {
          "base_uri": "https://localhost:8080/"
        },
        "id": "_ZD2vXGJvxyG",
        "outputId": "c306212e-accf-40f4-be86-9434cdfa0422"
      },
      "execution_count": null,
      "outputs": [
        {
          "output_type": "stream",
          "name": "stdout",
          "text": [
            "Predicted = [[3463.68222885]\n",
            " [4258.42378705]\n",
            " [4210.6791108 ]\n",
            " [5665.56880045]\n",
            " [5707.64607285]]\n"
          ]
        }
      ]
    },
    {
      "cell_type": "code",
      "source": [
        "#Using scikit learn\n",
        "nb_degree = 2\n",
        "polynomial_features = PolynomialFeatures(degree = nb_degree)\n",
        "X_TRANSF = polynomial_features.fit_transform(X_v_t)\n",
        "model = linear_model.LinearRegression()\n",
        "model.fit(X_TRANSF[:,[1,2]], Y)\n",
        "print(\"Coef = \", model.coef_)\n",
        "print(\"Intercept = \", model.intercept_)"
      ],
      "metadata": {
        "colab": {
          "base_uri": "https://localhost:8080/"
        },
        "id": "obT6WvQjwBCz",
        "outputId": "2a2d1757-3c2e-4314-b98a-218d36020b29"
      },
      "execution_count": null,
      "outputs": [
        {
          "output_type": "stream",
          "name": "stdout",
          "text": [
            "Coef =  [[ 1.69954134e+00 -1.15399906e-04]]\n",
            "Intercept =  [-390.29827289]\n"
          ]
        }
      ]
    },
    {
      "cell_type": "code",
      "source": [
        "#Singular Value Decomposition (SVD) of the matrix (X.t X)\n",
        "u, s, vh = np.linalg.svd(M, full_matrices=True)\n",
        "print(\"SVD:\\n s:\", s)\n",
        "#Model's error\n",
        "MSE = mean_squared_error(Y, Y_predict_g)"
      ],
      "metadata": {
        "colab": {
          "base_uri": "https://localhost:8080/"
        },
        "id": "BFZ9SYjuwoVz",
        "outputId": "463fd3d7-2464-4861-9b51-31f1ed357e25"
      },
      "execution_count": null,
      "outputs": [
        {
          "output_type": "stream",
          "name": "stdout",
          "text": [
            "SVD:\n",
            " s: [3.19733860e+15 5.91016147e+06 9.73039434e-03]\n"
          ]
        }
      ]
    },
    {
      "cell_type": "code",
      "source": [
        "### Plot\n",
        "plt.scatter(X_v_t, Y, color=\"black\")\n",
        "plt.plot(X_v_t, Y_predict_g,  color=\"blue\", linewidth=3)\n",
        "plt.grid()\n",
        "title = 'MSE = {}'.format(round(MSE,2))\n",
        "plt.title(\"Linear Regression g(v, t) = a_o + a_1.v.t + a_2.(v.t)^2 : \\n \" + title,\n",
        "          fontsize=10)\n",
        "plt.xlabel('v.t')\n",
        "plt.ylabel('y')\n",
        "plt.show()"
      ],
      "metadata": {
        "colab": {
          "base_uri": "https://localhost:8080/",
          "height": 306
        },
        "id": "OXEVCzxswuHl",
        "outputId": "f82e9bd4-9bd5-4a9d-831e-654c09f47c46"
      },
      "execution_count": null,
      "outputs": [
        {
          "output_type": "display_data",
          "data": {
            "text/plain": [
              "<Figure size 432x288 with 1 Axes>"
            ],
            "image/png": "[encoded data removed]"
          },
          "metadata": {
            "needs_background": "light"
          }
        }
      ]
    },
    {
      "cell_type": "markdown",
      "source": [
        "##1.3 Estimate the average squared error for both models ($f$ and $g$)"
      ],
      "metadata": {
        "id": "wYv1-EBO0Ido"
      }
    },
    {
      "cell_type": "code",
      "source": [
        "def myMSE(realY, predY):\n",
        "    n = np.shape(realY)[0]\n",
        "    accSum = 0\n",
        "    for i in range(0,n):\n",
        "        accSum += (realY[i,0] - predY[i,0])**2\n",
        "\n",
        "    accSum = accSum/n\n",
        "    return accSum\n",
        "\n",
        "#Model f\n",
        "MSE_f = myMSE(Y,Y_predict_f)\n",
        "print(f'MSE for model f = {MSE_f}')\n",
        "\n",
        "#Model g\n",
        "MSE_g = myMSE(Y,Y_predict_g)\n",
        "print(f'MSE for model g = {MSE_g}')"
      ],
      "metadata": {
        "colab": {
          "base_uri": "https://localhost:8080/"
        },
        "id": "jwohcyGs0Lom",
        "outputId": "6ccf4044-895d-450c-9f39-a2a5b925643d"
      },
      "execution_count": null,
      "outputs": [
        {
          "output_type": "stream",
          "name": "stdout",
          "text": [
            "MSE for model f = 94970.59914581395\n",
            "MSE for model g = 84889.2335498686\n"
          ]
        }
      ]
    },
    {
      "cell_type": "markdown",
      "source": [
        "##1.4 Estimate the values of the model $h(v, w, t) = a_o + a_1vt + a_2 w t$ \n",
        "\n",
        "Consider the WindSpeed feature that is provided by the Sentinel Satellite. The model has an unique solution?"
      ],
      "metadata": {
        "id": "UOJtpd_x1Tde"
      }
    },
    {
      "cell_type": "code",
      "source": [
        "import numpy as np\n",
        "from sklearn.metrics import mean_squared_error, r2_score\n",
        "import matplotlib.pyplot as plt\n",
        "from sklearn import linear_model\n",
        "from sklearn.preprocessing import PolynomialFeatures\n",
        "\n",
        "#Train data\n",
        "trainData = np.array([[100, 121, 143, 159, 182], [28, 30, 25, 38, 34], [0.05100, 0.05463, 0.04559, 0.06920, 0.06192],\\\n",
        "                  [3401, 4004, 4561, 5308, 6032]], dtype=float)\n",
        "trainData = np.transpose(trainData)\n",
        "\n",
        "#The model proposed is h(v,t) = a0 + a1*vt + a2*wt\n",
        "vt = trainData[:, 0] * trainData[:, 1] #element wise multiplication\n",
        "wt = trainData[:, 0] * trainData[:, 2] #element wise multiplication\n",
        "X_v_t = np.expand_dims(vt, axis=1) #(n,) to (n,1) array\n",
        "X_w_t = np.expand_dims(wt, axis=1)\n",
        "X = np.ones((np.shape(X_v_t)[0], 1), dtype=float)\n",
        "X = np.concatenate((X, X_v_t), axis = 1) #a0 + a1*x(1) + a2*x(2)\n",
        "X = np.concatenate((X, X_w_t), axis = 1) #a0 + a1*x(1) + a2*x(2)\n",
        "Xt = np.transpose(X)\n",
        "Y = np.expand_dims(trainData[:, -1], axis=1)\n",
        "\n",
        "#Linear regression\n",
        "M = Xt @ X\n",
        "half1 = np.linalg.inv(M)\n",
        "half2 = Xt @ Y\n",
        "theta = half1 @ half2\n",
        "print(f'Coef = {np.transpose(theta[1:])}')\n",
        "print(f'Intercept = {theta[0]} ')"
      ],
      "metadata": {
        "colab": {
          "base_uri": "https://localhost:8080/"
        },
        "id": "KZ4h_Kvy1oFg",
        "outputId": "8e86938c-5327-412b-bd1c-d232d8aed8ef"
      },
      "execution_count": null,
      "outputs": [
        {
          "output_type": "stream",
          "name": "stdout",
          "text": [
            "Coef = [[ -135.441394   74755.71201761]]\n",
            "Intercept = [1420.30169213] \n"
          ]
        }
      ]
    },
    {
      "cell_type": "code",
      "source": [
        "# Precticted values\n",
        "Y_predict_h = X @ theta\n",
        "print(f'Predicted = {Y_predict_h}')"
      ],
      "metadata": {
        "colab": {
          "base_uri": "https://localhost:8080/"
        },
        "id": "GUritQIl85Jw",
        "outputId": "9351e259-b04b-4141-c93f-eb8edf6fbc54"
      },
      "execution_count": null,
      "outputs": [
        {
          "output_type": "stream",
          "name": "stdout",
          "text": [
            "Predicted = [[3438.52976897]\n",
            " [3920.49170547]\n",
            " [4577.46438181]\n",
            " [5605.54730349]\n",
            " [5763.96683119]]\n"
          ]
        }
      ]
    },
    {
      "cell_type": "code",
      "source": [
        "#Using scikit learn\n",
        "model = linear_model.LinearRegression()\n",
        "sliceX = np.c_[np.ones(X.shape[0]), X[:,1:]]\n",
        "model.fit(sliceX, Y)\n",
        "print(\"Coef = \", model.coef_[:,1:])\n",
        "print(\"Intercept = \", model.intercept_)"
      ],
      "metadata": {
        "colab": {
          "base_uri": "https://localhost:8080/"
        },
        "id": "emv6HPrp9BBu",
        "outputId": "b8366cc4-8ebd-4ad9-f8d1-3d26ac43e343"
      },
      "execution_count": null,
      "outputs": [
        {
          "output_type": "stream",
          "name": "stdout",
          "text": [
            "Coef =  [[ -135.44139394 74755.71198008]]\n",
            "Intercept =  [1420.301698]\n"
          ]
        }
      ]
    },
    {
      "cell_type": "code",
      "source": [
        "#Singular Value Decomposition (SVD) of the matrix (X.t X)\n",
        "u, s, vh = np.linalg.svd(M, full_matrices=True)\n",
        "print(\"SVD:\\n s:\", s)\n",
        "#Model's error\n",
        "MSE = mean_squared_error(Y, Y_predict_h)"
      ],
      "metadata": {
        "colab": {
          "base_uri": "https://localhost:8080/"
        },
        "id": "gy9oy44u9NeJ",
        "outputId": "d15a7aaf-5769-45e7-c37c-01d60e8e29dd"
      },
      "execution_count": null,
      "outputs": [
        {
          "output_type": "stream",
          "name": "stdout",
          "text": [
            "SVD:\n",
            " s: [1.08594998e+08 4.47348305e-01 5.47224762e-05]\n"
          ]
        }
      ]
    },
    {
      "cell_type": "code",
      "source": [
        "###Plot\n",
        "plt.scatter(X_v_t, Y, color=\"black\")\n",
        "plt.plot(X_v_t, Y_predict_h,  color=\"blue\", linewidth=3)\n",
        "plt.grid()\n",
        "title = 'MSE = {}'.format(round(MSE,2))\n",
        "plt.title(\"Linear Regression f(v, t) = ao + a1.v.t + a2.w.t : \\n \" + title,\n",
        "          fontsize=10)\n",
        "plt.xlabel('v.t')\n",
        "plt.ylabel('y')\n",
        "plt.show()"
      ],
      "metadata": {
        "colab": {
          "base_uri": "https://localhost:8080/",
          "height": 305
        },
        "id": "PSFiLHIi9Ydq",
        "outputId": "0b8f0d5e-fd07-42c6-c4a1-1cd89f60c231"
      },
      "execution_count": null,
      "outputs": [
        {
          "output_type": "display_data",
          "data": {
            "text/plain": [
              "<Figure size 432x288 with 1 Axes>"
            ],
            "image/png": "[encoded data removed]"
          },
          "metadata": {
            "needs_background": "light"
          }
        }
      ]
    },
    {
      "cell_type": "markdown",
      "source": [
        "When $X^{T} X$ is invertible (which is the case), the normal equation directly implies $\\theta^{∗} = (X^{T} X) − X^{T} y $ is the unique solution of linear regression [1].\n",
        "\n",
        "[1] - http://web.cs.ucla.edu/~chohsieh/teaching/CS260_Winter2019/notes_linearregression.pdf"
      ],
      "metadata": {
        "id": "CFfE97i1-FGV"
      }
    },
    {
      "cell_type": "markdown",
      "source": [
        "##1.5 Stochastic gradient descent"
      ],
      "metadata": {
        "id": "9ZdGAJdQ-96h"
      }
    },
    {
      "cell_type": "code",
      "source": [
        "import numpy as np\n",
        "import matplotlib.pyplot as plt\n",
        "from sklearn.preprocessing import StandardScaler, MinMaxScaler\n",
        "from sklearn.linear_model import SGDRegressor\n",
        "\n",
        "#Train data\n",
        "trainData = np.array([[100, 121, 143, 159, 182], [28, 30, 25, 38, 34], [0.05100, 0.05463, 0.04559, 0.06920, 0.06192],\\\n",
        "                  [3401, 4004, 4561, 5308, 6032]], dtype=float)\n",
        "trainData = np.transpose(trainData)\n",
        "\n",
        "#The model proposed is g(v,t) = a0 + a1*vt + a2*wt\n",
        "vt = trainData[:, 0] * trainData[:, 1] #element wise multiplication\n",
        "wt = trainData[:, 0] * trainData[:, 2] #element wise multiplication\n",
        "X_v_t = np.expand_dims(vt, axis=1) #(n,) to (n,1) array\n",
        "X_w_t = np.expand_dims(wt, axis=1)\n",
        "X_train = np.ones((np.shape(X_v_t)[0], 1), dtype=float)\n",
        "X_train = np.concatenate((X_train, X_v_t), axis = 1) #a0 + a1*x(1) + a2*x(2)\n",
        "X_train = np.concatenate((X_train, X_w_t), axis = 1) #a0 + a1*x(1) + a2*x(2)\n",
        "Xt_train = np.transpose(X_train)\n",
        "Y_train = np.expand_dims(trainData[:, -1], axis=1)\n",
        "\n",
        "# scaler for normalization\n",
        "scaler_x = MinMaxScaler()\n",
        "scaler_y = MinMaxScaler()\n",
        "X = scaler_x.fit_transform(X_train)\n",
        "Xt = np.transpose(X)\n",
        "Y = scaler_y.fit_transform(Y_train)\n",
        "#print(\"Training:\", X)\n",
        "#print(\"Label:\", Y)\n",
        "\n",
        "lrate = 0.005\n",
        "n_epochs = 300\n",
        "n_samples = X.shape[0]\n",
        "\n",
        "#Initialization of theta\n",
        "theta = np.random.rand(X.shape[1], 1)\n",
        "#In stochastic gradient descent, you calculate the gradient using just a random small part of the observations instead of all of them.\n",
        "for itr in range(n_epochs):\n",
        "    isample = np.random.randint(0, X.shape[0])\n",
        "    Y_predict = X[isample] @ theta\n",
        "    Y_residuals = np.subtract(Y_predict, Y[isample])\n",
        "    Loss = (Y_residuals ** 2).mean()\n",
        "    grad_loss = 2*X[isample]*Y_predict - 2*X[isample]*Y[isample]\n",
        "    grad_loss = np.reshape(grad_loss, (X.shape[1], 1))\n",
        "    #print('Iter i:', itr, '  Loss:', Loss)\n",
        "    theta = theta - lrate*grad_loss\n",
        "\n",
        "Y_predict = scaler_y.inverse_transform(X @ theta) #reverse transformation\n",
        "\n",
        "#Using sklearn\n",
        "model_sgd = SGDRegressor(learning_rate='constant', eta0 = lrate, alpha=0, early_stopping=False, max_iter=n_epochs, tol=1e-9)\n",
        "X = X[:, 1:]\n",
        "# Fit model based on data\n",
        "model_sgd.fit(X , Y.reshape(n_samples))\n",
        "# Use the model\n",
        "yfit_sgd = model_sgd.predict(X)\n",
        "yfit_sgd = scaler_y.inverse_transform(yfit_sgd.reshape(-1, 1)) #reverse transformation\n",
        "\n",
        "#Plot regression line\n",
        "plt.scatter(X_v_t, Y_train)\n",
        "plt.plot(X_v_t, yfit_sgd,  'y', label='sklearn SGDRegressor')\n",
        "plt.plot(X_v_t, Y_predict,  'y', label='iterative SGD', color='blue')\n",
        "plt.legend()\n",
        "plt.title('Stochastic Gradient Descent')\n",
        "plt.show()"
      ],
      "metadata": {
        "id": "wqPO0yu4_DFs",
        "colab": {
          "base_uri": "https://localhost:8080/",
          "height": 373
        },
        "outputId": "280acc8e-822e-4591-a21b-6d45952a9bcb"
      },
      "execution_count": null,
      "outputs": [
        {
          "output_type": "stream",
          "name": "stderr",
          "text": [
            "/usr/local/lib/python3.8/dist-packages/sklearn/linear_model/_stochastic_gradient.py:1549: ConvergenceWarning: Maximum number of iteration reached before convergence. Consider increasing max_iter to improve the fit.\n",
            "  warnings.warn(\n",
            "<ipython-input-33-e102950feb63>:62: UserWarning: color is redundantly defined by the 'color' keyword argument and the fmt string \"y\" (-> color=(0.75, 0.75, 0.0, 1)). The keyword argument will take precedence.\n",
            "  plt.plot(X_v_t, Y_predict,  'y', label='iterative SGD', color='blue')\n"
          ]
        },
        {
          "output_type": "display_data",
          "data": {
            "text/plain": [
              "<Figure size 432x288 with 1 Axes>"
            ],
            "image/png": "[encoded data removed]"
          },
          "metadata": {
            "needs_background": "light"
          }
        }
      ]
    }
  ]
}