{
  "nbformat": 4,
  "nbformat_minor": 0,
  "metadata": {
    "colab": {
      "provenance": [],
      "toc_visible": true
    },
    "kernelspec": {
      "name": "python3",
      "display_name": "Python 3"
    },
    "language_info": {
      "name": "python"
    }
  },
  "cells": [
    {
      "cell_type": "markdown",
      "source": [
        "# Activity 1"
      ],
      "metadata": {
        "id": "jhZ6RmnZBw_B"
      }
    },
    {
      "cell_type": "markdown",
      "source": [
        "## 1.1 Typical distributions for continuous random variables\n"
      ],
      "metadata": {
        "id": "Dmvt72sJDGyj"
      }
    },
    {
      "cell_type": "code",
      "source": [
        "import numpy as np\n",
        "import matplotlib.pyplot as plt\n",
        "%matplotlib inline\n",
        "\n",
        "num_samples = 1000\n",
        "\n",
        "# Generate Gaussian Distribution\n",
        "mean = 0\n",
        "std = 1\n",
        "gaussian = np.random.normal(mean, std, num_samples)\n",
        "#print(gaussian)\n",
        "print(np.shape(gaussian))"
      ],
      "metadata": {
        "colab": {
          "base_uri": "https://localhost:8080/"
        },
        "id": "2j1AGUXG-2IB",
        "outputId": "1ba7e711-bbea-4284-ddc1-3cacf597bd42"
      },
      "execution_count": null,
      "outputs": [
        {
          "output_type": "stream",
          "name": "stdout",
          "text": [
            "(1000,)\n"
          ]
        }
      ]
    },
    {
      "cell_type": "code",
      "source": [
        "# Generate Uniform Distribution\n",
        "low = -1\n",
        "high = 1\n",
        "uniform = np.random.uniform(low, high, num_samples)\n",
        "print(np.shape(uniform))"
      ],
      "metadata": {
        "colab": {
          "base_uri": "https://localhost:8080/"
        },
        "id": "Ha8fbepHzt_O",
        "outputId": "6909bc62-8e6a-4659-b8dd-9cd7f8fe8db6"
      },
      "execution_count": null,
      "outputs": [
        {
          "output_type": "stream",
          "name": "stdout",
          "text": [
            "(1000,)\n"
          ]
        }
      ]
    },
    {
      "cell_type": "code",
      "source": [
        "# Generate Exponential Distribution\n",
        "lambd = 1 \n",
        "exponential = np.random.exponential(1/lambd, num_samples)\n",
        "#the input parameter \"scale\" in the function is the inverse of the rate (lambd)\n",
        "print(np.shape(exponential))"
      ],
      "metadata": {
        "colab": {
          "base_uri": "https://localhost:8080/"
        },
        "id": "i-ViRZHhz8T9",
        "outputId": "4f76d586-ec71-4319-92fc-1354492001c0"
      },
      "execution_count": null,
      "outputs": [
        {
          "output_type": "stream",
          "name": "stdout",
          "text": [
            "(1000,)\n"
          ]
        }
      ]
    },
    {
      "cell_type": "code",
      "source": [
        "# Plot Histograms\n",
        "# Plot Gaussian Histogram\n",
        "plt.figure(figsize=(10, 5))\n",
        "plt.hist(gaussian, bins=40, edgecolor='black', alpha=0.5, label='Gaussian')\n",
        "plt.title('Gaussian Distribution')\n",
        "plt.xlabel('Value')\n",
        "plt.ylabel('Frequency')\n",
        "plt.legend()\n",
        "plt.show()"
      ],
      "metadata": {
        "colab": {
          "base_uri": "https://localhost:8080/",
          "height": 350
        },
        "id": "P_r-_pvJz0JV",
        "outputId": "433b3605-0364-4ca7-89e2-e082ecdfe639"
      },
      "execution_count": null,
      "outputs": [
        {
          "output_type": "display_data",
          "data": {
            "text/plain": [
              "<Figure size 720x360 with 1 Axes>"
            ],
            "image/png": "[encoded data removed]"
          },
          "metadata": {
            "needs_background": "light"
          }
        }
      ]
    },
    {
      "cell_type": "code",
      "source": [
        "# Plot Uniform Histogram\n",
        "plt.figure(figsize=(10, 5))\n",
        "plt.hist(uniform, bins=40, edgecolor='black', alpha=0.5, label='Uniform')\n",
        "plt.title('Uniform Distribution')\n",
        "plt.xlabel('Value')\n",
        "plt.ylabel('Frequency')\n",
        "plt.legend()\n",
        "plt.show()"
      ],
      "metadata": {
        "colab": {
          "base_uri": "https://localhost:8080/",
          "height": 350
        },
        "id": "XCFjDAZRCjsX",
        "outputId": "31517a8d-cf53-4a3d-fa80-69120922cd73"
      },
      "execution_count": null,
      "outputs": [
        {
          "output_type": "display_data",
          "data": {
            "text/plain": [
              "<Figure size 720x360 with 1 Axes>"
            ],
            "image/png": "[encoded data removed]"
          },
          "metadata": {
            "needs_background": "light"
          }
        }
      ]
    },
    {
      "cell_type": "code",
      "source": [
        "# Plot Exponential Histogram\n",
        "plt.figure(figsize=(10, 5))\n",
        "plt.hist(exponential, bins=40, edgecolor='black', alpha=0.5, label='Exponential')\n",
        "plt.title('Exponential Distribution')\n",
        "plt.xlabel('Value')\n",
        "plt.ylabel('Frequency')\n",
        "plt.legend()\n",
        "plt.show()"
      ],
      "metadata": {
        "colab": {
          "base_uri": "https://localhost:8080/",
          "height": 350
        },
        "id": "Q1ZKPIkPCpJd",
        "outputId": "71b25656-409e-4716-ecb8-e35044d30b2f"
      },
      "execution_count": null,
      "outputs": [
        {
          "output_type": "display_data",
          "data": {
            "text/plain": [
              "<Figure size 720x360 with 1 Axes>"
            ],
            "image/png": "[encoded data removed]"
          },
          "metadata": {
            "needs_background": "light"
          }
        }
      ]
    },
    {
      "cell_type": "code",
      "source": [
        "#Plot all in the same figure\n",
        "plt.figure(figsize=(10, 5))\n",
        "plt.hist(gaussian, bins=40, edgecolor='black', alpha=0.5, label='Gaussian')\n",
        "plt.hist(uniform, bins=40, edgecolor='black', alpha=0.5, label='Uniform')\n",
        "plt.hist(exponential, bins=40, edgecolor='black', alpha=0.5, label='Exponential')\n",
        "plt.legend()\n",
        "plt.show()"
      ],
      "metadata": {
        "colab": {
          "base_uri": "https://localhost:8080/",
          "height": 320
        },
        "id": "QxlBL3wECsZp",
        "outputId": "7b5364f4-8bf8-4767-cceb-72625724b7c6"
      },
      "execution_count": null,
      "outputs": [
        {
          "output_type": "display_data",
          "data": {
            "text/plain": [
              "<Figure size 720x360 with 1 Axes>"
            ],
            "image/png": "[encoded data removed]"
          },
          "metadata": {
            "needs_background": "light"
          }
        }
      ]
    },
    {
      "cell_type": "markdown",
      "source": [
        "## 1.2 Testing different parameter values"
      ],
      "metadata": {
        "id": "W1GS1BhcDilm"
      }
    },
    {
      "cell_type": "code",
      "source": [
        "import numpy as np\n",
        "import matplotlib.pyplot as plt\n",
        "%matplotlib inline\n",
        "\n",
        "num_samples = 1000\n",
        "\n",
        "# Generate Gaussian Distribution\n",
        "mean = 1\n",
        "std = 0.5\n",
        "gaussian = np.random.normal(mean, std, num_samples)\n",
        "\n",
        "# Generate Uniform Distribution\n",
        "low = 0\n",
        "high = 1\n",
        "uniform = np.random.uniform(low, high, num_samples)\n",
        "\n",
        "# Generate Exponential Distribution\n",
        "lambd = 0.5\n",
        "exponential = np.random.exponential(1/lambd, num_samples)\n",
        "#the input parameter \"scale\" in the function is the inverse of the rate (lambd)\n",
        "\n",
        "# Plot Histograms\n",
        "# Plot Gaussian Histogram\n",
        "plt.figure(figsize=(10, 5))\n",
        "plt.hist(gaussian, bins=40, edgecolor='black', alpha=0.5, label='Gaussian')\n",
        "plt.title('Gaussian Distribution')\n",
        "plt.xlabel('Value')\n",
        "plt.ylabel('Frequency')\n",
        "plt.legend()\n",
        "plt.show()"
      ],
      "metadata": {
        "colab": {
          "base_uri": "https://localhost:8080/",
          "height": 350
        },
        "id": "DII2-8KNDszT",
        "outputId": "2025b7a5-f1b6-403c-a05a-5f1be4f9b4d4"
      },
      "execution_count": null,
      "outputs": [
        {
          "output_type": "display_data",
          "data": {
            "text/plain": [
              "<Figure size 720x360 with 1 Axes>"
            ],
            "image/png": "[encoded data removed]"
          },
          "metadata": {
            "needs_background": "light"
          }
        }
      ]
    },
    {
      "cell_type": "code",
      "source": [
        "# Plot Uniform Histogram\n",
        "plt.figure(figsize=(10, 5))\n",
        "plt.hist(uniform, bins=40, edgecolor='black', alpha=0.5, label='Uniform')\n",
        "plt.title('Uniform Distribution')\n",
        "plt.xlabel('Value')\n",
        "plt.ylabel('Frequency')\n",
        "plt.legend()\n",
        "plt.show()"
      ],
      "metadata": {
        "colab": {
          "base_uri": "https://localhost:8080/",
          "height": 350
        },
        "id": "o29LbweND-59",
        "outputId": "4acc9701-396e-446c-c9a8-a6ddb61e15ef"
      },
      "execution_count": null,
      "outputs": [
        {
          "output_type": "display_data",
          "data": {
            "text/plain": [
              "<Figure size 720x360 with 1 Axes>"
            ],
            "image/png": "[encoded data removed]"
          },
          "metadata": {
            "needs_background": "light"
          }
        }
      ]
    },
    {
      "cell_type": "code",
      "source": [
        "# Plot Exponential Histogram\n",
        "plt.figure(figsize=(10, 5))\n",
        "plt.hist(exponential, bins=40, edgecolor='black', alpha=0.5, label='Exponential')\n",
        "plt.title('Exponential Distribution')\n",
        "plt.xlabel('Value')\n",
        "plt.ylabel('Frequency')\n",
        "plt.legend()\n",
        "plt.show()"
      ],
      "metadata": {
        "colab": {
          "base_uri": "https://localhost:8080/",
          "height": 350
        },
        "id": "qlCsNG9BEC85",
        "outputId": "3650d084-11be-4743-eb44-4f45519f2c9e"
      },
      "execution_count": null,
      "outputs": [
        {
          "output_type": "display_data",
          "data": {
            "text/plain": [
              "<Figure size 720x360 with 1 Axes>"
            ],
            "image/png": "[encoded data removed]"
          },
          "metadata": {
            "needs_background": "light"
          }
        }
      ]
    },
    {
      "cell_type": "code",
      "source": [
        "#Plot all in the same figure\n",
        "plt.figure(figsize=(10, 5))\n",
        "plt.hist(gaussian, bins=40, edgecolor='black', alpha=0.5, label='Gaussian')\n",
        "plt.hist(uniform, bins=40, edgecolor='black', alpha=0.5, label='Uniform')\n",
        "plt.hist(exponential, bins=40, edgecolor='black', alpha=0.5, label='Exponential')\n",
        "plt.legend()\n",
        "plt.show()"
      ],
      "metadata": {
        "colab": {
          "base_uri": "https://localhost:8080/",
          "height": 320
        },
        "id": "P5wU3nzhENN6",
        "outputId": "7c3c1abf-e06d-4d58-cad2-80d6d00d7832"
      },
      "execution_count": null,
      "outputs": [
        {
          "output_type": "display_data",
          "data": {
            "text/plain": [
              "<Figure size 720x360 with 1 Axes>"
            ],
            "image/png": "[encoded data removed]"
          },
          "metadata": {
            "needs_background": "light"
          }
        }
      ]
    },
    {
      "cell_type": "markdown",
      "source": [
        "# Activity 2"
      ],
      "metadata": {
        "id": "ND2EWDEZEi-6"
      }
    },
    {
      "cell_type": "markdown",
      "source": [
        "## Standardization with 10 samples"
      ],
      "metadata": {
        "id": "HEcVxD3REr1d"
      }
    },
    {
      "cell_type": "markdown",
      "source": [
        "### 1.1 Testing the standart deviation equation with $\\frac{1}{n-1}$"
      ],
      "metadata": {
        "id": "f7byyH8wUwva"
      }
    },
    {
      "cell_type": "code",
      "source": [
        "import numpy as np\n",
        "\n",
        "def mySampleMean(x):\n",
        "    samples = len(x) #n samples from the feature\n",
        "    sum = 0 #variable that will add up the samples of the feature\n",
        "    for i in range(0, samples): #sum of all the samples in a feature\n",
        "        sum += x[i]\n",
        "\n",
        "    sampleMean = sum/samples #sample mean equation as shown in the original notebook\n",
        "    return sampleMean\n",
        "\n",
        "def mySampleStd(x, mean):\n",
        "    samples = len(x) #n samples from the feature\n",
        "    sumSquared = 0 #variable that will add up the difference of the sample and the mean squared\n",
        "    for i in range(0,samples):\n",
        "        sumSquared += (x[i]-mean)**2 #sum of the difference squared\n",
        "\n",
        "    sampleStd = ((1/(samples-1))*sumSquared)**0.5 #sample std equation as shown in the original notebook\n",
        "    return sampleStd\n",
        "\n",
        "def standardization(X):\n",
        "    z = np.zeros_like(X) #array shaped just like the data set\n",
        "    mean = np.zeros((1,np.shape(X)[1])) #array containing the means of all features\n",
        "    std = np.zeros_like(mean) #array containing the std's of all the features\n",
        "\n",
        "    for j in range(0, np.shape(z)[1]):\n",
        "        mean[0,j] = mySampleMean(X[:,j]) #computes the mean for set j (ranging from 0 to number of sets)\n",
        "        std[0,j] = mySampleStd(X[:,j],mean[0,j]) #computes the std for set j (ranging from 0 to number of sets)\n",
        "        for i in range(0, len(z)):\n",
        "            z[i,j] = (X[i,j] - mean[0,j])/std[0,j] #computes the standarized vector for position [i,j]\n",
        "\n",
        "    return mean, std, z\n",
        "\n",
        "n, d = 10, 3\n",
        "#n, d = 1000, 3\n",
        "np.random.seed(1)\n",
        "#Feature 1\n",
        "mu, sigma = 10, 0.1 # mean and standard deviation\n",
        "x1 = np.random.normal(mu, sigma, size=(n, 1))\n",
        "#Feature 2\n",
        "mu, sigma = 2, 10 # mean and standard deviation\n",
        "x2 = np.random.normal(mu, sigma, size=(n, 1))\n",
        "#Feature 3\n",
        "mu, sigma = -10, 100 # mean and standard deviation\n",
        "x3 = np.random.normal(mu, sigma, size=(n, 1))\n",
        "\n",
        "X = np.block([x1, x2, x3])\n",
        "print(X)"
      ],
      "metadata": {
        "colab": {
          "base_uri": "https://localhost:8080/"
        },
        "id": "Bx8FqQKAVP5R",
        "outputId": "cb7be8cd-b517-4d11-fca3-2b9ee8fcb191"
      },
      "execution_count": null,
      "outputs": [
        {
          "output_type": "stream",
          "name": "stdout",
          "text": [
            "[[  10.16243454   16.62107937 -120.06191772]\n",
            " [   9.93882436  -18.60140709  104.47237098]\n",
            " [   9.94718282   -1.22417204   80.15907206]\n",
            " [   9.89270314   -1.84054355   40.24943389]\n",
            " [  10.08654076   13.33769442   80.08559493]\n",
            " [   9.76984613   -8.99891267  -78.37278592]\n",
            " [  10.17448118    0.27571792  -22.28902255]\n",
            " [   9.92387931   -6.77858418 -103.57694343]\n",
            " [  10.03190391    2.42213747  -36.78880796]\n",
            " [   9.97506296    7.82815214   43.03554667]]\n"
          ]
        }
      ]
    },
    {
      "cell_type": "code",
      "source": [
        "[setMean, setStd, Z] = standardization(X)\n",
        "print(f\"The mean from the original data: {setMean}\")\n",
        "print(f\"The std from the original data: {setStd}\")\n",
        "print(f\"The standardized data: \\n{Z}\")"
      ],
      "metadata": {
        "colab": {
          "base_uri": "https://localhost:8080/"
        },
        "id": "KEaHvTflVWsp",
        "outputId": "8db39b67-a75c-4804-9689-6d11d1841e72"
      },
      "execution_count": null,
      "outputs": [
        {
          "output_type": "stream",
          "name": "stdout",
          "text": [
            "The mean from the original data: [[ 9.99028591  0.30411618 -1.3087459 ]]\n",
            "The std from the original data: [[ 0.12553173 10.53185864 81.8834948 ]]\n",
            "The standardized data: \n",
            "[[ 1.37135548  1.54929569 -1.45026995]\n",
            " [-0.40994856 -1.79507947  1.29184907]\n",
            " [-0.34336407 -0.14511097  0.99492356]\n",
            " [-0.77735544 -0.20363545  0.50752816]\n",
            " [ 0.76677707  1.23753828  0.99402622]\n",
            " [-1.7560483  -0.88332261 -0.94114254]\n",
            " [ 1.46732038 -0.00269641 -0.25622107]\n",
            " [-0.52900252 -0.67250241 -1.24894764]\n",
            " [ 0.3315337   0.20110613 -0.43329931]\n",
            " [-0.12126773  0.71440723  0.54155349]]\n"
          ]
        }
      ]
    },
    {
      "cell_type": "code",
      "source": [
        "standMean = np.zeros((1,np.shape(Z)[1])) #array containing the means of all features of the standardized data\n",
        "standStd = np.zeros_like(standMean) #array containing the std's of all the features of the standardized data\n",
        "\n",
        "for j in range(0, np.shape(standStd)[1]):\n",
        "    standMean[0,j] = mySampleMean(Z[:,j]) #computes the mean for set j (ranging from 0 to number of sets) standardized\n",
        "    standStd[0,j] = mySampleStd(Z[:,j],standMean[0,j]) #computes the std for set j (ranging from 0 to number of sets) standardized\n",
        "\n",
        "print(f\"The mean from the standardized data: {standMean}\")\n",
        "print(f\"The std from the standardized data: {standStd}\")"
      ],
      "metadata": {
        "id": "NGUFG_XxXPYW",
        "colab": {
          "base_uri": "https://localhost:8080/"
        },
        "outputId": "055354bc-2211-40da-da81-ef4656d11a75"
      },
      "execution_count": null,
      "outputs": [
        {
          "output_type": "stream",
          "name": "stdout",
          "text": [
            "The mean from the standardized data: [[-1.34253719e-14  2.22044605e-17  1.11022302e-17]]\n",
            "The std from the standardized data: [[1. 1. 1.]]\n"
          ]
        }
      ]
    },
    {
      "cell_type": "markdown",
      "source": [
        "### 1.2 Testing the standart deviation equation with $\\frac{1}{n}$"
      ],
      "metadata": {
        "id": "xz77tZKuryU1"
      }
    },
    {
      "cell_type": "code",
      "source": [
        "import numpy as np\n",
        "\n",
        "def mySampleMean(x):\n",
        "    samples = len(x) #n samples from the feature\n",
        "    sum = 0 #variable that will add up the samples of the feature\n",
        "    for i in range(0, samples):\n",
        "        sum += x[i]\n",
        "\n",
        "    sampleMean = sum/samples #sample mean equation as shown in the original notebook\n",
        "    return sampleMean\n",
        "\n",
        "def mySampleStd(x, mean):\n",
        "    samples = len(x) #n samples from the feature\n",
        "    sumSquared = 0 #variable that will add up the difference of the sample and the mean squared\n",
        "    for i in range(0,samples):\n",
        "        sumSquared += (x[i]-mean)**2\n",
        "\n",
        "    sampleStd = ((1/(samples))*sumSquared)**0.5 #sample std equation as shown in the original notebook\n",
        "    return sampleStd\n",
        "\n",
        "def standardization(X):\n",
        "    z = np.zeros_like(X) #array shaped just like the data set\n",
        "    mean = np.zeros((1,np.shape(X)[1])) #array containing the means of all features\n",
        "    std = np.zeros_like(mean) #array containing the std's of all the features\n",
        "\n",
        "    for j in range(0, np.shape(z)[1]):\n",
        "        mean[0,j] = mySampleMean(X[:,j]) #computes the mean for set j (ranging from 0 to number of sets)\n",
        "        std[0,j] = mySampleStd(X[:,j],mean[0,j]) #computes the std for set j (ranging from 0 to number of sets)\n",
        "        for i in range(0, len(z)):\n",
        "            z[i,j] = (X[i,j] - mean[0,j])/std[0,j] #computes the standarized vector for position [i,j]\n",
        "\n",
        "    return mean, std, z\n",
        "\n",
        "n, d = 10, 3\n",
        "#n, d = 1000, 3\n",
        "np.random.seed(1)\n",
        "#Feature 1\n",
        "mu, sigma = 10, 0.1 # mean and standard deviation\n",
        "x1 = np.random.normal(mu, sigma, size=(n, 1))\n",
        "#Feature 2\n",
        "mu, sigma = 2, 10 # mean and standard deviation\n",
        "x2 = np.random.normal(mu, sigma, size=(n, 1))\n",
        "#Feature 3\n",
        "mu, sigma = -10, 100 # mean and standard deviation\n",
        "x3 = np.random.normal(mu, sigma, size=(n, 1))\n",
        "\n",
        "X = np.block([x1, x2, x3])\n",
        "\n",
        "[setMean, setStd, Z] = standardization(X)\n",
        "print(f\"The mean from the original data: {setMean}\")\n",
        "print(f\"The std from the original data: {setStd}\")\n",
        "print(f\"The standardized data: \\n{Z}\")"
      ],
      "metadata": {
        "colab": {
          "base_uri": "https://localhost:8080/"
        },
        "id": "tCBhodHRr7Ft",
        "outputId": "3f01cd8c-4797-452e-e5cd-80628b7aeb86"
      },
      "execution_count": null,
      "outputs": [
        {
          "output_type": "stream",
          "name": "stdout",
          "text": [
            "The mean from the original data: [[ 9.99028591  0.30411618 -1.3087459 ]]\n",
            "The std from the original data: [[ 0.11908986  9.99139839 77.6815039 ]]\n",
            "The standardized data: \n",
            "[[ 1.4455356   1.63310105 -1.52871875]\n",
            " [-0.43212373 -1.89217991  1.36172849]\n",
            " [-0.36193751 -0.15296039  1.04874151]\n",
            " [-0.81940458 -0.21465061  0.53498166]\n",
            " [ 0.808254    1.30447989  1.04779564]\n",
            " [-1.85103744 -0.93110378 -0.99205134]\n",
            " [ 1.54669149 -0.00284227 -0.27008072]\n",
            " [-0.55761761 -0.70887979 -1.31650641]\n",
            " [ 0.3494672   0.21198447 -0.45673758]\n",
            " [-0.12782742  0.75305134  0.5708475 ]]\n"
          ]
        }
      ]
    },
    {
      "cell_type": "code",
      "source": [
        "standMean = np.zeros((1,np.shape(Z)[1])) #array containing the means of all features of the standardized data\n",
        "standStd = np.zeros_like(standMean) #array containing the std's of all the features of the standardized data\n",
        "\n",
        "for j in range(0, np.shape(standStd)[1]):\n",
        "    standMean[0,j] = mySampleMean(Z[:,j]) #computes the mean for set j (ranging from 0 to number of sets) standardized\n",
        "    standStd[0,j] = mySampleStd(Z[:,j],standMean[0,j]) #computes the std for set j (ranging from 0 to number of sets) standardized\n",
        "\n",
        "print(f\"The mean from the standardized data: {standMean}\")\n",
        "print(f\"The std from the standardized data: {standStd}\")"
      ],
      "metadata": {
        "colab": {
          "base_uri": "https://localhost:8080/"
        },
        "id": "IIDaUvbLsVDe",
        "outputId": "3d295d5f-c96f-4576-d6a0-d67d013c01ed"
      },
      "execution_count": null,
      "outputs": [
        {
          "output_type": "stream",
          "name": "stdout",
          "text": [
            "The mean from the standardized data: [[-1.34253719e-14  2.22044605e-17  1.11022302e-17]]\n",
            "The std from the standardized data: [[1. 1. 1.]]\n"
          ]
        }
      ]
    },
    {
      "cell_type": "markdown",
      "source": [
        "### 1.3 Sklearn comparison"
      ],
      "metadata": {
        "id": "NHC0BR9ssvfN"
      }
    },
    {
      "cell_type": "code",
      "source": [
        "from sklearn import preprocessing\n",
        "import numpy as np\n",
        "\n",
        "scaler = preprocessing.StandardScaler().fit(X)\n",
        "\n",
        "print(\"Original data X\\n\",\"sample mean =\", scaler.mean_, \"\\n sample standard deviation =\", scaler.scale_)\n",
        "\n",
        "X_scaled = scaler.transform(X)\n",
        "\n",
        "print(\"\\n Standardized data\\n\",\"sample mean =\", X_scaled.mean(axis=0), \"\\n sample standard deviation =\", X_scaled.std(axis=0))\n",
        "\n",
        "print(\"\\n\", X_scaled)\n",
        "\n",
        "# print(\"Diference\\n\", Z-X_scaled)"
      ],
      "metadata": {
        "colab": {
          "base_uri": "https://localhost:8080/"
        },
        "id": "Q4-CmYYPs3ee",
        "outputId": "cccf6ccf-6f62-44b9-e3d2-1495fbad1f64"
      },
      "execution_count": null,
      "outputs": [
        {
          "output_type": "stream",
          "name": "stdout",
          "text": [
            "Original data X\n",
            " sample mean = [ 9.99028591  0.30411618 -1.3087459 ] \n",
            " sample standard deviation = [ 0.11908986  9.99139839 77.6815039 ]\n",
            "\n",
            " Standardized data\n",
            " sample mean = [-1.34253719e-14  1.11022302e-17  1.11022302e-17] \n",
            " sample standard deviation = [1. 1. 1.]\n",
            "\n",
            " [[ 1.4455356   1.63310105 -1.52871875]\n",
            " [-0.43212373 -1.89217991  1.36172849]\n",
            " [-0.36193751 -0.15296039  1.04874151]\n",
            " [-0.81940458 -0.21465061  0.53498166]\n",
            " [ 0.808254    1.30447989  1.04779564]\n",
            " [-1.85103744 -0.93110378 -0.99205134]\n",
            " [ 1.54669149 -0.00284227 -0.27008072]\n",
            " [-0.55761761 -0.70887979 -1.31650641]\n",
            " [ 0.3494672   0.21198447 -0.45673758]\n",
            " [-0.12782742  0.75305134  0.5708475 ]]\n"
          ]
        }
      ]
    },
    {
      "cell_type": "markdown",
      "source": [
        "# Activity 3"
      ],
      "metadata": {
        "id": "ZJDwzCJIuUA8"
      }
    },
    {
      "cell_type": "markdown",
      "source": [
        "## Central limit theorem in action\n",
        "\n",
        "\"In practice, even summing up a relatively small number of random\n",
        "variables, one can obtain a good approximation to a Gaussian.\" \n",
        "- Excerpt from the book \"Machine Learning: A Bayesian and Optimization Perspective\" by Sergios Theodoridis"
      ],
      "metadata": {
        "id": "vrkxZQTWuncW"
      }
    },
    {
      "cell_type": "code",
      "source": [
        "import numpy as np\n",
        "import matplotlib.pyplot as plt\n",
        "\n",
        "# Generate 1000 Means of 10 Samples from Exponential Distribution\n",
        "n = 10\n",
        "lambd = 1\n",
        "mean_samples = [np.mean(np.random.exponential(lambd, n)) for i in range(1000)]\n",
        "\n",
        "# Plot Mean of n Samples Histogram\n",
        "plt.hist(mean_samples, bins=40, edgecolor='black', label='Mean of 10 Samples')\n",
        "plt.title(f'Mean of {n} Samples from Exponential Distribution')\n",
        "plt.xlabel('Value')\n",
        "plt.ylabel('Frequency')\n",
        "plt.legend()\n",
        "plt.show()"
      ],
      "metadata": {
        "colab": {
          "base_uri": "https://localhost:8080/",
          "height": 295
        },
        "id": "_QDYCmhuvB4S",
        "outputId": "305ed64d-2101-4997-de60-810416ef3e6b"
      },
      "execution_count": null,
      "outputs": [
        {
          "output_type": "display_data",
          "data": {
            "text/plain": [
              "<Figure size 432x288 with 1 Axes>"
            ],
            "image/png": "[encoded data removed]"
          },
          "metadata": {
            "needs_background": "light"
          }
        }
      ]
    },
    {
      "cell_type": "code",
      "source": [
        "# Generate 1000 Mean of 100 Samples from Exponential Distribution\n",
        "n = 100\n",
        "mean_samples = [np.mean(np.random.exponential(lambd, n)) for i in range(1000)]\n",
        "\n",
        "# Plot Mean of n Samples Histogram\n",
        "plt.hist(mean_samples, bins=40, edgecolor='black', label='Mean of 100 Samples')\n",
        "plt.title(f'Mean of {n} Samples from Exponential Distribution')\n",
        "plt.xlabel('Value')\n",
        "plt.ylabel('Frequency')\n",
        "plt.legend()\n",
        "plt.show()"
      ],
      "metadata": {
        "colab": {
          "base_uri": "https://localhost:8080/",
          "height": 295
        },
        "id": "om1M4LSTvRpp",
        "outputId": "e56579c3-a2e4-49cf-d565-afb11eade908"
      },
      "execution_count": null,
      "outputs": [
        {
          "output_type": "display_data",
          "data": {
            "text/plain": [
              "<Figure size 432x288 with 1 Axes>"
            ],
            "image/png": "[encoded data removed]"
          },
          "metadata": {
            "needs_background": "light"
          }
        }
      ]
    },
    {
      "cell_type": "markdown",
      "source": [
        "# Activity 4\n"
      ],
      "metadata": {
        "id": "LjUDR7euwioj"
      }
    },
    {
      "cell_type": "markdown",
      "source": [
        "## Likelihood classification problem"
      ],
      "metadata": {
        "id": "SM2Faqf63rHW"
      }
    },
    {
      "cell_type": "markdown",
      "source": [
        "### 4.1 Implementing the multivariate gaussian distribution"
      ],
      "metadata": {
        "id": "7wl2JyDsNfGW"
      }
    },
    {
      "cell_type": "code",
      "source": [
        "import numpy as np\n",
        "\n",
        "def computeP(X, mu, sigma):\n",
        "    vecP = np.zeros((np.shape(X)[0],1)) #vector P shaped [10,1] containing all the densities \n",
        "    d = np.shape(X)[1]\n",
        "    denPart = 1 / np.sqrt(((2 * np.pi) ** d) * (np.linalg.det(sigma)))\n",
        "    for i in range(0,np.shape(vecP)[0]):\n",
        "        subtract = np.expand_dims(X[i, :], axis=1) - mu\n",
        "        bracketPart = np.transpose(subtract) @ (np.linalg.inv(sigma) @ subtract)\n",
        "        expPart = np.exp(-0.5 * bracketPart)\n",
        "        vecP[i] = denPart * expPart\n",
        "\n",
        "    return vecP\n",
        "\n",
        "N, d = 10, 2\n",
        "mu1, sigma1 = np.array([[1], [1]]), np.diag([0.1, 0.1]) # mean and covariance of model 1\n",
        "mu2, sigma2 = np.array([[-1], [-1]]), np.diag([1, 2]) # mean and covariance of model 2\n",
        "\n",
        "X = np.random.rand(N,d)\n",
        "print(X)"
      ],
      "metadata": {
        "colab": {
          "base_uri": "https://localhost:8080/"
        },
        "id": "cMhpfS8s3k9W",
        "outputId": "33c8d339-faaa-4a31-ae92-bda4d070b918"
      },
      "execution_count": null,
      "outputs": [
        {
          "output_type": "stream",
          "name": "stdout",
          "text": [
            "[[0.36459147 0.20418116]\n",
            " [0.31607161 0.56231573]\n",
            " [0.86191179 0.09820171]\n",
            " [0.83005682 0.92066673]\n",
            " [0.22362801 0.20084758]\n",
            " [0.76843518 0.0205282 ]\n",
            " [0.48994354 0.02237546]\n",
            " [0.80729794 0.02436129]\n",
            " [0.16055391 0.24613142]\n",
            " [0.9971178  0.42074925]]\n"
          ]
        }
      ]
    },
    {
      "cell_type": "code",
      "source": [
        "P1 = computeP(X, mu1, sigma1)\n",
        "print(f\"P computed for the model 1: \\n{P1}\")\n",
        "P2 = computeP(X, mu2, sigma2)\n",
        "print(f\"P computed for the model 2: \\n{P2}\")"
      ],
      "metadata": {
        "colab": {
          "base_uri": "https://localhost:8080/"
        },
        "id": "lGpZQv0nNMP_",
        "outputId": "69ac0fbf-6713-40e6-a98c-6dff41a79db6"
      },
      "execution_count": null,
      "outputs": [
        {
          "output_type": "stream",
          "name": "stdout",
          "text": [
            "P computed for the model 1: \n",
            "[[0.00890938]\n",
            " [0.05889967]\n",
            " [0.02480191]\n",
            " [1.33487248]\n",
            " [0.00320744]\n",
            " [0.01004954]\n",
            " [0.00364343]\n",
            " [0.01132982]\n",
            " [0.00273882]\n",
            " [0.2973068 ]]\n",
            "P computed for the model 2: \n",
            "[[0.03086851]\n",
            " [0.02571501]\n",
            " [0.01470864]\n",
            " [0.00838555]\n",
            " [0.03712027]\n",
            " [0.01816059]\n",
            " [0.02856053]\n",
            " [0.01690844]\n",
            " [0.03892556]\n",
            " [0.00924824]]\n"
          ]
        }
      ]
    },
    {
      "cell_type": "markdown",
      "source": [
        "#### 4.1.1 Comparison with pre-existing multivariate normal distribution functions"
      ],
      "metadata": {
        "id": "Pkp-Vi92N7Wj"
      }
    },
    {
      "cell_type": "code",
      "source": [
        "from scipy.stats import multivariate_normal\n",
        "\n",
        "compareMu1, compareSigma1 = np.array([1, 1]), np.diag([0.1, 0.1]) # mean and covariance of model 1\n",
        "compareMu2, compareSigma2 = np.array([-1, -1]), np.diag([1, 2]) # mean and covariance of model 2\n",
        "\n",
        "compareP1 = multivariate_normal.pdf(X,compareMu1,compareSigma1)\n",
        "print(f\"P computed for the model 1 using scipy.stats: \\n{compareP1}\")\n",
        "compareP2 = multivariate_normal.pdf(X,compareMu2,compareSigma2)\n",
        "print(f\"P computed for the model 2 using scipy.stats: \\n{compareP2}\")"
      ],
      "metadata": {
        "colab": {
          "base_uri": "https://localhost:8080/"
        },
        "id": "kjx6dFwxOFsW",
        "outputId": "d26abef9-c4bf-46e2-e96d-96ff3be0831b"
      },
      "execution_count": null,
      "outputs": [
        {
          "output_type": "stream",
          "name": "stdout",
          "text": [
            "P computed for the model 1 using scipy.stats: \n",
            "[0.00890938 0.05889967 0.02480191 1.33487248 0.00320744 0.01004954\n",
            " 0.00364343 0.01132982 0.00273882 0.2973068 ]\n",
            "P computed for the model 2 using scipy.stats: \n",
            "[0.03086851 0.02571501 0.01470864 0.00838555 0.03712027 0.01816059\n",
            " 0.02856053 0.01690844 0.03892556 0.00924824]\n"
          ]
        }
      ]
    },
    {
      "cell_type": "markdown",
      "source": [
        "#### 4.1.2 Likelihood of belonging to model 1 or 2"
      ],
      "metadata": {
        "id": "WB-3xg03OzUm"
      }
    },
    {
      "cell_type": "code",
      "source": [
        "vDif = P1 - P2 #likelihood to belong to one of the models\n",
        "result = []\n",
        "for n in vDif: #itirates through the elements of the list\n",
        "  if n > 0: #likelihood to belong to model 1 since P1 > P2\n",
        "    result.append('blue')\n",
        "  else: #likelihood to belong to model 2 since P1 < P2\n",
        "    result.append('green')\n",
        "\n",
        "print(f\"Likelihood of the set to belong to one of the models: \\n{result}\")"
      ],
      "metadata": {
        "colab": {
          "base_uri": "https://localhost:8080/"
        },
        "id": "Bl1LYgjeO9XR",
        "outputId": "008defaa-e738-4a72-91a5-cef1846e99c4"
      },
      "execution_count": null,
      "outputs": [
        {
          "output_type": "stream",
          "name": "stdout",
          "text": [
            "Likelihood of the set to belong to one of the models: \n",
            "['green', 'blue', 'blue', 'blue', 'green', 'green', 'green', 'green', 'green', 'blue']\n"
          ]
        }
      ]
    },
    {
      "cell_type": "code",
      "source": [
        "import matplotlib.pyplot as plt\n",
        "\n",
        "plt.figure()\n",
        "colors = np.array(result)\n",
        "plt.scatter(X[:, 0], X[:, 1], c=colors, s=100)\n",
        "plt.scatter(mu1[0], mu1[1], marker='*', s=200, c='b')#, mu2[:,0], marker='*')#, s=200)\n",
        "plt.scatter(mu2[0], mu2[1], marker='*', s=200, c='g')\n",
        "plt.title(\"Multivariate Normal Distribution\")\n",
        "plt.grid()\n",
        "plt.show()"
      ],
      "metadata": {
        "colab": {
          "base_uri": "https://localhost:8080/",
          "height": 281
        },
        "id": "8UkFnbcSQjfZ",
        "outputId": "3b8a4904-0ff4-434e-99c1-a1c813eeb6fa"
      },
      "execution_count": null,
      "outputs": [
        {
          "output_type": "display_data",
          "data": {
            "text/plain": [
              "<Figure size 432x288 with 1 Axes>"
            ],
            "image/png": "[encoded data removed]"
          },
          "metadata": {
            "needs_background": "light"
          }
        }
      ]
    },
    {
      "cell_type": "markdown",
      "source": [
        "### 4.2 Implementing the multivariate gaussian distribution with the log transform"
      ],
      "metadata": {
        "id": "TMyIHRWpSWja"
      }
    },
    {
      "cell_type": "code",
      "source": [
        "def computePLog(X, mu, sigma):\n",
        "    vecP = np.zeros((np.shape(X)[0],1)) #vector P shaped [10,1] containing all the densities \n",
        "    d = np.shape(X)[1]\n",
        "    lnPart = -0.5*((d*np.log(2*np.pi)) + (np.log(np.linalg.det(sigma))))\n",
        "    for i in range(0,np.shape(vecP)[0]):\n",
        "        subtract = np.expand_dims(X[i, :], axis=1) - mu\n",
        "        bracketPart = np.transpose(subtract) @ (np.linalg.inv(sigma) @ subtract)\n",
        "        expPart = -0.5 * bracketPart\n",
        "        vecP[i] = lnPart + expPart\n",
        "\n",
        "    return vecP\n",
        "\n",
        "logP1 = computePLog(X, mu1, sigma1)\n",
        "print(f\"log(P) computed for the model 1: \\n{logP1}\")\n",
        "logP2 = computePLog(X, mu2, sigma2)\n",
        "print(f\"log(P) computed for the model 2: \\n{logP2}\")"
      ],
      "metadata": {
        "id": "VKeycy0zSf5k",
        "colab": {
          "base_uri": "https://localhost:8080/"
        },
        "outputId": "edbb78c1-10dd-4563-8234-0951c97f895d"
      },
      "execution_count": null,
      "outputs": [
        {
          "output_type": "stream",
          "name": "stdout",
          "text": [
            "log(P) computed for the model 1: \n",
            "[[-4.72065014]\n",
            " [-2.83191982]\n",
            " [-3.69683449]\n",
            " [ 0.28883577]\n",
            " [-5.7422822 ]\n",
            " [-4.60022834]\n",
            " [-5.61482866]\n",
            " [-4.48031689]\n",
            " [-5.90022982]\n",
            " [-1.21299068]]\n",
            "log(P) computed for the model 2: \n",
            "[[-3.47801866]\n",
            " [-3.6606805 ]\n",
            " [-4.21932017]\n",
            " [-4.78124482]\n",
            " [-3.29359214]\n",
            " [-4.0085016 ]\n",
            " [-3.55572943]\n",
            " [-4.07994258]\n",
            " [-3.24610423]\n",
            " [-4.68332251]]\n"
          ]
        }
      ]
    },
    {
      "cell_type": "code",
      "source": [
        "vDifLog = computePLog(X, mu1, sigma1) - computePLog(X, mu2, sigma2)\n",
        "\n",
        "resultLog = []\n",
        "for n in vDifLog:\n",
        "  if n > 0:\n",
        "    resultLog.append('blue')\n",
        "  else:\n",
        "    resultLog.append('green')\n",
        "\n",
        "\n",
        "print(resultLog)"
      ],
      "metadata": {
        "colab": {
          "base_uri": "https://localhost:8080/"
        },
        "id": "9CGJFJcM5Cx8",
        "outputId": "ca59aafe-4eca-40f2-a5d1-eaec9c581719"
      },
      "execution_count": null,
      "outputs": [
        {
          "output_type": "stream",
          "name": "stdout",
          "text": [
            "['green', 'blue', 'blue', 'blue', 'green', 'green', 'green', 'green', 'green', 'blue']\n"
          ]
        }
      ]
    },
    {
      "cell_type": "code",
      "source": [
        "import matplotlib.pyplot as plt\n",
        "\n",
        "plt.figure()\n",
        "colors = np.array(resultLog)\n",
        "plt.scatter(X[:, 0], X[:, 1], c=colors, s=100)\n",
        "plt.scatter(mu1[0], mu1[1], marker='*', s=200, c='b')#, mu2[:,0], marker='*')#, s=200)\n",
        "plt.scatter(mu2[0], mu2[1], marker='*', s=200, c='g')\n",
        "plt.title(\"Log transform in the multivariate normal distribution\")\n",
        "plt.grid()\n",
        "plt.show()"
      ],
      "metadata": {
        "colab": {
          "base_uri": "https://localhost:8080/",
          "height": 281
        },
        "id": "rIb0FQeL5sC7",
        "outputId": "c2a5db4e-b609-469a-8109-1eb7a113b9f8"
      },
      "execution_count": null,
      "outputs": [
        {
          "output_type": "display_data",
          "data": {
            "text/plain": [
              "<Figure size 432x288 with 1 Axes>"
            ],
            "image/png": "[encoded data removed]"
          },
          "metadata": {
            "needs_background": "light"
          }
        }
      ]
    }
  ]
}